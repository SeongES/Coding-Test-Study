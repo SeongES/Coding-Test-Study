{
 "cells": [
  {
   "cell_type": "code",
   "execution_count": 45,
   "id": "7287bec9",
   "metadata": {},
   "outputs": [],
   "source": [
    "test = [3, 0, 6, 1, 5]     # 3\n",
    "test2 = [0, 0, 0, 0, 0]    # 0\n",
    "test3 = [0, 0, 0, 0, 1]    # 1\n",
    "test4 = [9, 9, 9, 12]      # 4\n",
    "test5 = [9, 7, 6, 2, 1]    # 3\n",
    "test6 = [10, 8, 5, 4, 3]   # 4\n",
    "test7 = [25, 8, 5, 3, 3]   # 3\n",
    "test8 = [1, 1, 5, 7, 6]    # 3\n",
    "test9 = [0]                # 0\n",
    "test10 = [0, 0]            # 0\n",
    "answer = [3,0,1,4,3,4,3,3,0,0]"
   ]
  },
  {
   "cell_type": "code",
   "execution_count": 55,
   "id": "ef5b36a3",
   "metadata": {},
   "outputs": [],
   "source": [
    "def solution(citations):\n",
    "    answer=0\n",
    "    k=1\n",
    "    citations.sort()\n",
    "    for i in citations[::-1]:\n",
    "        if i > len(citations):\n",
    "            k+=1\n",
    "            continue\n",
    "        else:\n",
    "            if k >=i:\n",
    "                if (k-1)>i:\n",
    "                    answer=k-1\n",
    "                else:\n",
    "                    answer=i\n",
    "                break\n",
    "            k+=1\n",
    "    if (k-1)==len(citations):\n",
    "        answer=len(citations)\n",
    "    return answer"
   ]
  },
  {
   "cell_type": "code",
   "execution_count": 56,
   "id": "416ca393",
   "metadata": {},
   "outputs": [
    {
     "name": "stdout",
     "output_type": "stream",
     "text": [
      "test1 - 3 / answer - 3\n",
      "test2 - 0 / answer - 0\n",
      "test3 - 1 / answer - 1\n",
      "test4 - 4 / answer - 4\n",
      "test5 - 3 / answer - 3\n",
      "test6 - 4 / answer - 4\n",
      "test7 - 3 / answer - 3\n",
      "test8 - 3 / answer - 3\n",
      "test9 - 0 / answer - 0\n",
      "test10 - 0 / answer - 0\n"
     ]
    }
   ],
   "source": [
    "k=0\n",
    "for i in [test, test2, test3, test4, test5, test6, test7, test8, test9, test10]:\n",
    "    k+=1\n",
    "    print(f'test{k}', '-' ,solution(i), '/', 'answer -', answer[k-1])"
   ]
  }
 ],
 "metadata": {
  "kernelspec": {
   "display_name": "Python 3 (ipykernel)",
   "language": "python",
   "name": "python3"
  },
  "language_info": {
   "codemirror_mode": {
    "name": "ipython",
    "version": 3
   },
   "file_extension": ".py",
   "mimetype": "text/x-python",
   "name": "python",
   "nbconvert_exporter": "python",
   "pygments_lexer": "ipython3",
   "version": "3.8.12"
  }
 },
 "nbformat": 4,
 "nbformat_minor": 5
}
