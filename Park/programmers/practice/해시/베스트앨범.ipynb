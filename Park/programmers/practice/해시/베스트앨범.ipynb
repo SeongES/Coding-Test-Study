{
 "cells": [
  {
   "cell_type": "code",
   "execution_count": 1,
   "id": "72104f03",
   "metadata": {},
   "outputs": [],
   "source": [
    "import time\n",
    "\n",
    "from collections import defaultdict"
   ]
  },
  {
   "cell_type": "markdown",
   "id": "d3bb9b5f",
   "metadata": {},
   "source": [
    "1) genres 합이 maximunm인 genres에 하나씩 접근<br>\n",
    "2) 접근한 genres에 maximum 2개까지 index 접근"
   ]
  },
  {
   "cell_type": "code",
   "execution_count": 2,
   "id": "c64cfd6f",
   "metadata": {},
   "outputs": [],
   "source": [
    "genres = [\"classic\", \"pop\", \"classic\", \"classic\", \"pop\"]\n",
    "plays = [500, 600, 150, 800, 2500]\n",
    "# plays = [11500, 600, 150, 800, 2500]"
   ]
  },
  {
   "cell_type": "code",
   "execution_count": 37,
   "id": "fa6f056e",
   "metadata": {},
   "outputs": [
    {
     "name": "stdout",
     "output_type": "stream",
     "text": [
      "0.3119373321533203\n"
     ]
    }
   ],
   "source": [
    "start=time.time()\n",
    "for _ in range(100000):\n",
    "    answer = []\n",
    "    temp = []\n",
    "    total_genre_d = {}\n",
    "\n",
    "    temp = [[genres[i], plays[i], i] for i in range(len(genres))]   # [장르, 재생횟수, 고유 번호] 리스트\n",
    "    temp = sorted(temp, key=lambda x: (x[0], -x[1], x[2]))  # 많이 재생될수록, 같다면 고유번호가 낮을수록\n",
    "\n",
    "    for g in temp:  # {장르 : 총 재생횟수} 딕셔너리 생성\n",
    "        if g[0] not in total_genre_d:\n",
    "            total_genre_d[g[0]] = g[1]\n",
    "        else:\n",
    "            total_genre_d[g[0]] += g[1]\n",
    "\n",
    "    total_genre_d = sorted(total_genre_d.items(), key = lambda x: -x[1])    # 재생횟수가 많은 순서로 장르 정렬\n",
    "\n",
    "    for i in total_genre_d: # 같은 장르 내에서는 최대 2곡까지 조건대로 수록\n",
    "        count = 0\n",
    "        for j in temp:\n",
    "            if i[0] == j[0]:\n",
    "                count += 1\n",
    "                if count > 2:\n",
    "                    break\n",
    "                else:\n",
    "                    answer.append(j[2])\n",
    "print(time.time() - start)"
   ]
  },
  {
   "cell_type": "code",
   "execution_count": 39,
   "id": "f7304416",
   "metadata": {},
   "outputs": [
    {
     "data": {
      "text/plain": [
       "[('pop', 3100), ('classic', 1450)]"
      ]
     },
     "execution_count": 39,
     "metadata": {},
     "output_type": "execute_result"
    }
   ],
   "source": [
    "total_genre_d"
   ]
  },
  {
   "cell_type": "code",
   "execution_count": 38,
   "id": "d738d70e",
   "metadata": {},
   "outputs": [
    {
     "name": "stdout",
     "output_type": "stream",
     "text": [
      "0.39093875885009766\n"
     ]
    }
   ],
   "source": [
    "start=time.time()\n",
    "for _ in range(100000):\n",
    "    answer=[]\n",
    "\n",
    "    dict_=defaultdict(dict)\n",
    "\n",
    "    for i in range(len(genres)):\n",
    "        dict_[genres[i]][i]=plays[i]\n",
    "\n",
    "    # for _ in range(len(dict_)):\n",
    "    while dict_:\n",
    "        max_gen=max(dict_,key=lambda x : sum(dict_[x].values()))\n",
    "\n",
    "        for _ in range(2):\n",
    "            max_index=max(dict_[max_gen], key=dict_[max_gen].get)\n",
    "            answer.append(max_index)\n",
    "            del dict_[max_gen][max_index]\n",
    "\n",
    "        del dict_[max_gen]\n",
    "\n",
    "print(time.time() - start)"
   ]
  },
  {
   "cell_type": "code",
   "execution_count": null,
   "id": "95b6a573",
   "metadata": {},
   "outputs": [],
   "source": []
  },
  {
   "cell_type": "code",
   "execution_count": null,
   "id": "f012c05d",
   "metadata": {},
   "outputs": [],
   "source": []
  },
  {
   "cell_type": "code",
   "execution_count": null,
   "id": "57ca1444",
   "metadata": {},
   "outputs": [],
   "source": []
  },
  {
   "cell_type": "code",
   "execution_count": 83,
   "id": "0b952ea4",
   "metadata": {},
   "outputs": [
    {
     "name": "stdout",
     "output_type": "stream",
     "text": [
      "0.0010602474212646484\n",
      "0.0037622451782226562\n",
      "------------------------------------------------------------------------------------------------------------------------\n",
      "0.0006814002990722656\n",
      "0.0014853477478027344\n",
      "------------------------------------------------------------------------------------------------------------------------\n",
      "0.0005779266357421875\n",
      "0.0014514923095703125\n",
      "------------------------------------------------------------------------------------------------------------------------\n",
      "0.020605802536010742\n",
      "0.0016601085662841797\n",
      "------------------------------------------------------------------------------------------------------------------------\n",
      "0.0006682872772216797\n",
      "0.00145721435546875\n",
      "------------------------------------------------------------------------------------------------------------------------\n",
      "0.0005860328674316406\n",
      "0.0014314651489257812\n",
      "------------------------------------------------------------------------------------------------------------------------\n",
      "0.0006694793701171875\n",
      "0.001451730728149414\n",
      "------------------------------------------------------------------------------------------------------------------------\n",
      "0.0006537437438964844\n",
      "0.0014615058898925781\n",
      "------------------------------------------------------------------------------------------------------------------------\n",
      "0.020006418228149414\n",
      "0.0016231536865234375\n",
      "------------------------------------------------------------------------------------------------------------------------\n",
      "0.0006928443908691406\n",
      "0.0014929771423339844\n",
      "------------------------------------------------------------------------------------------------------------------------\n"
     ]
    }
   ],
   "source": [
    "for _ in range(10):\n",
    "    start=time.time()\n",
    "\n",
    "    [[i, i, i] for i in range(10000)]\n",
    "\n",
    "    print(time.time() - start)\n",
    "\n",
    "    start=time.time()\n",
    "    dict_=defaultdict(dict)\n",
    "\n",
    "    for i in range(10000):\n",
    "            dict_[i][i]=i\n",
    "\n",
    "    print(time.time() - start)\n",
    "    \n",
    "    print('---'*40)"
   ]
  }
 ],
 "metadata": {
  "kernelspec": {
   "display_name": "Python 3 (ipykernel)",
   "language": "python",
   "name": "python3"
  },
  "language_info": {
   "codemirror_mode": {
    "name": "ipython",
    "version": 3
   },
   "file_extension": ".py",
   "mimetype": "text/x-python",
   "name": "python",
   "nbconvert_exporter": "python",
   "pygments_lexer": "ipython3",
   "version": "3.8.12"
  }
 },
 "nbformat": 4,
 "nbformat_minor": 5
}
