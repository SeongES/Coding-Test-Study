{
 "cells": [
  {
   "cell_type": "code",
   "execution_count": 18,
   "id": "ef16f0f1",
   "metadata": {},
   "outputs": [],
   "source": [
    "test = [1,2,3,4,5]     # [1]\n",
    "test2 = [1,3,2,4,2]    # [1,2,3]"
   ]
  },
  {
   "cell_type": "code",
   "execution_count": 19,
   "id": "43499f7f",
   "metadata": {},
   "outputs": [],
   "source": [
    "def solution(answers):\n",
    "    g1,g2,g3=[1,2,3,4,5],[2,1,2,3,2,4,2,5],[3,3,1,1,2,2,4,4,5,5]\n",
    "    g1=sum([i==j for (i,j) in zip(g1*len(answers),answers)])\n",
    "    g2=sum([i==j for (i,j) in zip(g2*len(answers),answers)])\n",
    "    g3=sum([i==j for (i,j) in zip(g3*len(answers),answers)])\n",
    "    score=[g1,g2,g3]\n",
    "    answer = [i+1 for i, value in enumerate(score) if value == max(score)]\n",
    "    return answer"
   ]
  },
  {
   "cell_type": "code",
   "execution_count": 20,
   "id": "f357e53e",
   "metadata": {},
   "outputs": [
    {
     "data": {
      "text/plain": [
       "[1]"
      ]
     },
     "execution_count": 20,
     "metadata": {},
     "output_type": "execute_result"
    }
   ],
   "source": [
    "solution(test)"
   ]
  },
  {
   "cell_type": "code",
   "execution_count": 21,
   "id": "c04277ba",
   "metadata": {},
   "outputs": [
    {
     "data": {
      "text/plain": [
       "[1, 2, 3]"
      ]
     },
     "execution_count": 21,
     "metadata": {},
     "output_type": "execute_result"
    }
   ],
   "source": [
    "solution(test2)"
   ]
  }
 ],
 "metadata": {
  "kernelspec": {
   "display_name": "Python 3 (ipykernel)",
   "language": "python",
   "name": "python3"
  },
  "language_info": {
   "codemirror_mode": {
    "name": "ipython",
    "version": 3
   },
   "file_extension": ".py",
   "mimetype": "text/x-python",
   "name": "python",
   "nbconvert_exporter": "python",
   "pygments_lexer": "ipython3",
   "version": "3.8.12"
  }
 },
 "nbformat": 4,
 "nbformat_minor": 5
}
